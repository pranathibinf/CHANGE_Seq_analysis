{
  "nbformat": 4,
  "nbformat_minor": 0,
  "metadata": {
    "colab": {
      "provenance": [],
      "authorship_tag": "ABX9TyMAfJxGJWXzRzkx9Mjf/kno",
      "include_colab_link": true
    },
    "kernelspec": {
      "name": "python3",
      "display_name": "Python 3"
    },
    "language_info": {
      "name": "python"
    }
  },
  "cells": [
    {
      "cell_type": "markdown",
      "metadata": {
        "id": "view-in-github",
        "colab_type": "text"
      },
      "source": [
        "<a href=\"https://colab.research.google.com/github/pranathibinf/CHANGE_Seq_analysis/blob/main/Change_seq_LRRK2_off_target_analysis.ipynb\" target=\"_parent\"><img src=\"https://colab.research.google.com/assets/colab-badge.svg\" alt=\"Open In Colab\"/></a>"
      ]
    },
    {
      "cell_type": "code",
      "source": [
        "# Fetching the files and visualizing them\n",
        "import os\n",
        "import pyBigWig\n",
        "import numpy as np\n",
        "import matplotlib.pyplot as plt\n",
        "\n",
        "# Step 1 — Path to extracted BigWig files\n",
        "path = '/content/projects/CHANGEseq/'\n",
        "bw_files = os.listdir(path)\n",
        "\n",
        "# Step 2 — Define histone marks to plot\n",
        "marks_to_plot = {\n",
        "    'H3K4me1': None,\n",
        "    'H3K4me3': None,\n",
        "    'H3K9me3': None,\n",
        "    'H3K9ac': None,\n",
        "    'H3K27me3': None,\n",
        "    'H3K27ac': None,\n",
        "    'H3K36me3': None\n",
        "}\n",
        "\n",
        "# Step 3 — Assign correct files to each mark\n",
        "for f in bw_files:\n",
        "    for mark in marks_to_plot.keys():\n",
        "        if mark in f:\n",
        "            marks_to_plot[mark] = os.path.join(path, f)\n",
        "\n",
        "print(\"Marks found:\", marks_to_plot)\n",
        "\n",
        "# Step 4 — Define LRRK2 region\n",
        "chromosome = 'chr12'\n",
        "start = 40567000\n",
        "end = 40653000\n",
        "\n",
        "# Step 5 — Fetch signals for each mark\n",
        "signals = {}\n",
        "\n",
        "for mark, filepath in marks_to_plot.items():\n",
        "    if filepath:\n",
        "        bw = pyBigWig.open(filepath)\n",
        "        signal = bw.values(chromosome, start, end, numpy=True)\n",
        "        signal = np.nan_to_num(signal)\n",
        "        signals[mark] = signal\n",
        "        bw.close()\n",
        "\n",
        "# Step 6 — Plot all marks together\n",
        "plt.figure(figsize=(14,7))\n",
        "\n",
        "for mark, signal in signals.items():\n",
        "    plt.plot(np.arange(start, end), signal, label=mark, lw=0.8)\n",
        "\n",
        "plt.title('Histone Modification Signals over LRRK2 (chr12:{}-{})'.format(start, end))\n",
        "plt.xlabel('Genomic Position')\n",
        "plt.ylabel('Signal Intensity')\n",
        "plt.legend()\n",
        "plt.tight_layout()\n",
        "plt.show()"
      ],
      "metadata": {
        "id": "r4gUiH-ICmA1"
      },
      "execution_count": null,
      "outputs": []
    },
    {
      "cell_type": "code",
      "source": [
        "# All files processing, signals recorded in single file. Visualizations.\n",
        "import pyBigWig\n",
        "import numpy as np\n",
        "import pandas as pd\n",
        "import os\n",
        "\n",
        "# Set paths\n",
        "BW_DIR = '/content/projects/CHANGEseq/raw_data/'\n",
        "OUTPUT_DIR = '/content/projects/CHANGEseq/output/'\n",
        "os.makedirs(OUTPUT_DIR, exist_ok=True)\n",
        "\n",
        "# Signal threshold to define peaks\n",
        "threshold = 5\n",
        "\n",
        "# List all BigWig files\n",
        "bw_files = [f for f in os.listdir(BW_DIR) if f.endswith('.bw')]\n",
        "\n",
        "for bw_file in bw_files:\n",
        "    full_path = os.path.join(BW_DIR, bw_file)\n",
        "    print(f\"Processing {bw_file}\")\n",
        "\n",
        "    # Open BigWig\n",
        "    bw = pyBigWig.open(full_path)\n",
        "\n",
        "    # Get chromosomes\n",
        "    chromosomes = bw.chroms().keys()\n",
        "\n",
        "    peaks = []\n",
        "\n",
        "    # Scan all chromosomes\n",
        "    for chrom in chromosomes:\n",
        "        chrom_len = bw.chroms()[chrom]\n",
        "        signal = bw.values(chrom, 0, chrom_len, numpy=True)\n",
        "        signal = np.nan_to_num(signal)\n",
        "\n",
        "        in_peak = False\n",
        "        peak_start = 0\n",
        "        peak_signal = []\n",
        "\n",
        "        for i, val in enumerate(signal):\n",
        "            if val >= threshold:\n",
        "                if not in_peak:\n",
        "                    peak_start = i\n",
        "                    peak_signal = []\n",
        "                    in_peak = True\n",
        "                peak_signal.append(val)\n",
        "            else:\n",
        "                if in_peak:\n",
        "                    peak_end = i\n",
        "                    max_signal = np.max(peak_signal)\n",
        "                    peaks.append([chrom, peak_start, peak_end, max_signal])\n",
        "                    in_peak = False\n",
        "\n",
        "    # Save peaks to CSV\n",
        "    df_peaks = pd.DataFrame(peaks, columns=['Chromosome', 'Start', 'End', 'MaxSignal'])\n",
        "    csv_name = bw_file.replace('.bw', '_offtarget_peaks.csv')\n",
        "    df_peaks.to_csv(os.path.join(OUTPUT_DIR, csv_name), index=False)\n",
        "\n",
        "    # Close BigWig\n",
        "    bw.close()\n",
        "\n",
        "print(\"Finished processing all BigWig files!\")\n"
      ],
      "metadata": {
        "colab": {
          "base_uri": "https://localhost:8080/"
        },
        "id": "LX7EayHYMbjD",
        "outputId": "1ef97cd4-ceef-444d-ea43-a41183fc963d"
      },
      "execution_count": 4,
      "outputs": [
        {
          "output_type": "stream",
          "name": "stdout",
          "text": [
            "Processing GSM4495703_H3K4me3_FE.bdg.bw\n",
            "Processing GSM4495701_H3K4me1_FE.bdg.bw\n",
            "Processing GSM4495705_H3K9me3_FE.bdg.bw\n",
            "Processing GSM4495713_H3K36me3_FE.bdg.bw\n",
            "Processing GSM4495707_H3K9ac_FE.bdg.bw\n",
            "Processing GSM4495709_H3K27me3_FE.bdg.bw\n",
            "Processing GSM4495711_H3K27ac_FE.bdg.bw\n",
            "Finished processing all BigWig files!\n"
          ]
        }
      ]
    },
    {
      "cell_type": "code",
      "source": [
        "import pandas as pd\n",
        "import os\n",
        "\n",
        "# Set output folder\n",
        "OUTPUT_DIR = '/content/projects/CHANGEseq/output/'\n",
        "\n",
        "# List all peak CSV files\n",
        "csv_files = [f for f in os.listdir(OUTPUT_DIR) if f.endswith('_offtarget_peaks.csv')]\n",
        "\n",
        "# Store all dataframes\n",
        "dfs = []\n",
        "\n",
        "for csv_file in csv_files:\n",
        "    df = pd.read_csv(os.path.join(OUTPUT_DIR, csv_file))\n",
        "    df['HistoneMark'] = csv_file.split('_')[1]\n",
        "    dfs.append(df)\n",
        "\n",
        "# Concatenate all\n",
        "master_df = pd.concat(dfs, ignore_index=True)\n",
        "\n",
        "# Save master CSV\n",
        "master_csv_path = os.path.join(OUTPUT_DIR, 'all_offtarget_peaks_combined.csv')\n",
        "master_df.to_csv(master_csv_path, index=False)\n",
        "\n",
        "print(f\"Master file created: {master_csv_path}\")\n"
      ],
      "metadata": {
        "colab": {
          "base_uri": "https://localhost:8080/"
        },
        "id": "6oqeostqtQ1B",
        "outputId": "cf3bc93c-1997-4e3b-aa42-35c8f0242187"
      },
      "execution_count": 5,
      "outputs": [
        {
          "output_type": "stream",
          "name": "stdout",
          "text": [
            "✅ Master file created: /content/projects/CHANGEseq/output/all_offtarget_peaks_combined.csv\n"
          ]
        }
      ]
    },
    {
      "cell_type": "code",
      "source": [
        "# Task 1 — Analyze LRRK2 region specifically\n",
        "import pandas as pd\n",
        "import os\n",
        "\n",
        "# Set output folder\n",
        "OUTPUT_DIR = '/content/projects/CHANGEseq/output/'\n",
        "\n",
        "# Read the combined master CSV\n",
        "master_df = pd.read_csv(os.path.join(OUTPUT_DIR, 'all_offtarget_peaks_combined.csv'))\n",
        "\n",
        "# define LRRK2 region\n",
        "lrrk2_chr = 'chr12'\n",
        "lrrk2_start = 40567000\n",
        "lrrk2_end = 40653000\n",
        "\n",
        "# filter for peaks inside LRRK2\n",
        "lrrk2_peaks = master_df[\n",
        "    (master_df['Chromosome'] == lrrk2_chr) &\n",
        "    (master_df['Start'] >= lrrk2_start) &\n",
        "    (master_df['End'] <= lrrk2_end)\n",
        "]\n",
        "\n",
        "# Save LRRK2 specific peaks\n",
        "lrrk2_peaks.to_csv(os.path.join(OUTPUT_DIR, 'LRRK2_specific_peaks.csv'), index=False)\n",
        "\n",
        "print(f\"✅ Found {len(lrrk2_peaks)} peaks inside LRRK2 region.\")"
      ],
      "metadata": {
        "colab": {
          "base_uri": "https://localhost:8080/"
        },
        "id": "UXtby4G2tZqW",
        "outputId": "02b012d5-a936-4f86-94a9-4b9ca7f2b6cf"
      },
      "execution_count": 6,
      "outputs": [
        {
          "output_type": "stream",
          "name": "stdout",
          "text": [
            "✅ Found 29 peaks inside LRRK2 region.\n"
          ]
        }
      ]
    },
    {
      "cell_type": "code",
      "source": [
        "# Task 2 — Visualize off-target peaks across genome\n",
        "import matplotlib.pyplot as plt\n",
        "\n",
        "# Count number of peaks per chromosome\n",
        "chrom_counts = master_df['Chromosome'].value_counts().sort_index()\n",
        "\n",
        "# Plot\n",
        "plt.figure(figsize=(14,6))\n",
        "chrom_counts.plot(kind='bar')\n",
        "plt.title('Off-Target Peaks Distribution Across Chromosomes')\n",
        "plt.xlabel('Chromosome')\n",
        "plt.ylabel('Number of Peaks')\n",
        "plt.xticks(rotation=90)\n",
        "plt.tight_layout()\n",
        "plt.show()"
      ],
      "metadata": {
        "colab": {
          "base_uri": "https://localhost:8080/",
          "height": 607
        },
        "id": "4Xja3S_JtkMY",
        "outputId": "f9907a12-535a-43ee-abf8-34da8997e512"
      },
      "execution_count": 7,
      "outputs": [
        {
          "output_type": "display_data",
          "data": {
            "text/plain": [
              "<Figure size 1400x600 with 1 Axes>"
            ],
            "image/png": "[encoded data removed]"
          },
          "metadata": {}
        }
      ]
    },
    {
      "cell_type": "code",
      "source": [
        "# Task 3 — Rank off-target peaks by signal strength\n",
        "# sort by max-signal descending\n",
        "top_peaks = master_df.sort_values(by='MaxSignal', ascending=False)\n",
        "\n",
        "# Save top 50 peaks\n",
        "top_peaks.head(50).to_csv(os.path.join(OUTPUT_DIR, 'Top50_offtarget_peaks.csv'), index=False)\n",
        "\n",
        "print(f\"✅ Saved Top 50 strongest off-target peaks.\")"
      ],
      "metadata": {
        "colab": {
          "base_uri": "https://localhost:8080/"
        },
        "id": "CVSWMGFstuHx",
        "outputId": "0d175243-85b0-4a0e-df63-d9073cf7fd61"
      },
      "execution_count": 8,
      "outputs": [
        {
          "output_type": "stream",
          "name": "stdout",
          "text": [
            "✅ Saved Top 50 strongest off-target peaks.\n"
          ]
        }
      ]
    }
  ]
}